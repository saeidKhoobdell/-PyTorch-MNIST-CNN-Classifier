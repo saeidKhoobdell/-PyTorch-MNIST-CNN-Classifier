{
 "cells": [
  {
   "cell_type": "code",
   "execution_count": 81,
   "metadata": {},
   "outputs": [
    {
     "name": "stdout",
     "output_type": "stream",
     "text": [
      "GPU available :True\n"
     ]
    }
   ],
   "source": [
    "import torch\n",
    "import torchvision\n",
    "import torchvision.transforms as transforms\n",
    "import torch.optim as optim\n",
    "import torch.nn as nn\n",
    "import torch.nn.functional as F\n",
    "from torch.utils.data import  DataLoader\n",
    "\n",
    "print(\"GPU available :{}\".format(torch.cuda.is_available()))"
   ]
  },
  {
   "cell_type": "code",
   "execution_count": 82,
   "metadata": {},
   "outputs": [],
   "source": [
    "if torch.cuda.is_available():\n",
    "    device = 'cuda'\n",
    "else :\n",
    "    device = 'cpu'    "
   ]
  },
  {
   "cell_type": "code",
   "execution_count": 83,
   "metadata": {},
   "outputs": [],
   "source": [
    "transfomer = transforms.Compose([transforms.ToTensor(),\n",
    "                                 transforms.Normalize((0.5,), (0.5,))])"
   ]
  },
  {
   "cell_type": "code",
   "execution_count": 84,
   "metadata": {},
   "outputs": [],
   "source": [
    "train_dataset = torchvision.datasets.MNIST('mnist',\n",
    "                                          train = True,\n",
    "                                          download = True,\n",
    "                                          transform = transfomer)\n",
    "test_dataset = torchvision.datasets.MNIST('mnist',\n",
    "                                          train = False,\n",
    "                                          download = True,\n",
    "                                          transform = transfomer)"
   ]
  },
  {
   "cell_type": "code",
   "execution_count": 85,
   "metadata": {},
   "outputs": [
    {
     "name": "stdout",
     "output_type": "stream",
     "text": [
      "torch.Size([60000, 28, 28])\n",
      "torch.Size([10000, 28, 28])\n"
     ]
    }
   ],
   "source": [
    "print(train_dataset.data.shape)\n",
    "print(test_dataset.data.shape)"
   ]
  },
  {
   "cell_type": "markdown",
   "metadata": {},
   "source": [
    "### **we can plot this in OpenCV**\n"
   ]
  },
  {
   "cell_type": "code",
   "execution_count": null,
   "metadata": {},
   "outputs": [],
   "source": [
    "import cv2\n",
    "import numpy as np\n",
    "from matplotlib import pyplot as plt\n",
    "\n",
    "# Define our imshow function \n",
    "def imgshow(title=\"\", image = None, size = 6):\n",
    "    w, h = image.shape[0], image.shape[1]\n",
    "    aspect_ratio = w/h\n",
    "    plt.figure(figsize=(size * aspect_ratio,size))\n",
    "    plt.imshow(cv2.cvtColor(image, cv2.COLOR_BGR2RGB))\n",
    "    plt.title(title)\n",
    "    plt.show()\n",
    "\n",
    "# Convert image to a numpy array\n",
    "image = trainset.data[0].numpy()\n",
    "imgshow(\"MNIST Sample\", image)"
   ]
  },
  {
   "cell_type": "markdown",
   "metadata": {},
   "source": [
    "### **Alternatively we can use matplotlib to show many examples from our dataset**"
   ]
  },
  {
   "cell_type": "code",
   "execution_count": null,
   "metadata": {},
   "outputs": [],
   "source": [
    "# Let's view the 50 first images of the MNIST training dataset\n",
    "import matplotlib.pyplot as plt\n",
    "\n",
    "figure = plt.figure()\n",
    "num_of_images = 50 \n",
    "\n",
    "for index in range(1, num_of_images + 1):\n",
    "    plt.subplot(5, 10, index)\n",
    "    plt.axis('off')\n",
    "    plt.imshow(trainset.data[index], cmap='gray_r')"
   ]
  },
  {
   "cell_type": "code",
   "execution_count": 86,
   "metadata": {},
   "outputs": [],
   "source": [
    "trainloader = DataLoader(train_dataset, batch_size = 128, shuffle=True, num_workers=0)\n",
    "testloader = DataLoader(test_dataset, batch_size = 128, shuffle=True, num_workers=0)"
   ]
  },
  {
   "cell_type": "code",
   "execution_count": 87,
   "metadata": {},
   "outputs": [],
   "source": [
    "class MNISTClissifier(nn.Module):\n",
    "    def __init__(self):\n",
    "        super(MNISTClissifier, self).__init__()\n",
    "        self.conv1 = nn.Conv2d(1, 32, 3)\n",
    "        self.conv2 = nn.Conv2d(32, 64, 3)\n",
    "        self.maxPool = nn.MaxPool2d(2,2)\n",
    "        self.fc1 = nn.Linear(64* 12*12, 128)\n",
    "        self.fc2 = nn.Linear(128, 10)\n",
    "\n",
    "    def forward(self, x):\n",
    "        x = F.relu(self.conv1(x))\n",
    "        x = F.relu(self.conv2(x))\n",
    "        x = self.maxPool(x)\n",
    "        x = x.view(-1, 64 * 12 * 12)\n",
    "        x = F.relu(self.fc1(x))\n",
    "        x = self.fc2(x)\n",
    "        return x\n"
   ]
  },
  {
   "cell_type": "code",
   "execution_count": 88,
   "metadata": {},
   "outputs": [
    {
     "data": {
      "text/plain": [
       "Net(\n",
       "  (conv1): Conv2d(1, 32, kernel_size=(3, 3), stride=(1, 1))\n",
       "  (conv2): Conv2d(32, 64, kernel_size=(3, 3), stride=(1, 1))\n",
       "  (pool): MaxPool2d(kernel_size=2, stride=2, padding=0, dilation=1, ceil_mode=False)\n",
       "  (fc1): Linear(in_features=9216, out_features=128, bias=True)\n",
       "  (fc2): Linear(in_features=128, out_features=10, bias=True)\n",
       ")"
      ]
     },
     "execution_count": 88,
     "metadata": {},
     "output_type": "execute_result"
    }
   ],
   "source": [
    "net = Net()\n",
    "net.to(device)"
   ]
  },
  {
   "cell_type": "code",
   "execution_count": 89,
   "metadata": {},
   "outputs": [],
   "source": [
    "criterion = nn.CrossEntropyLoss()\n",
    "\n",
    "optimizer = optim.SGD(net.parameters(), lr= 0.001, momentum= 0.9)"
   ]
  },
  {
   "cell_type": "code",
   "execution_count": 90,
   "metadata": {},
   "outputs": [
    {
     "name": "stdout",
     "output_type": "stream",
     "text": [
      "start epoch number : 1\n",
      "Epoch: 1, Mini-Batches Completed: 50, Loss: 2.269, Test Accuracy = 42.740%\n",
      "Epoch: 1, Mini-Batches Completed: 100, Loss: 4.391, Test Accuracy = 55.710%\n",
      "Epoch: 1, Mini-Batches Completed: 150, Loss: 6.111, Test Accuracy = 74.770%\n",
      "Epoch: 1, Mini-Batches Completed: 200, Loss: 7.116, Test Accuracy = 83.450%\n",
      "Epoch: 1, Mini-Batches Completed: 250, Loss: 7.722, Test Accuracy = 87.000%\n",
      "Epoch: 1, Mini-Batches Completed: 300, Loss: 8.204, Test Accuracy = 88.380%\n",
      "Epoch: 1, Mini-Batches Completed: 350, Loss: 8.614, Test Accuracy = 89.240%\n",
      "Epoch: 1, Mini-Batches Completed: 400, Loss: 9.000, Test Accuracy = 89.480%\n",
      "Epoch: 1, Mini-Batches Completed: 450, Loss: 9.364, Test Accuracy = 90.180%\n",
      "start epoch number : 2\n",
      "Epoch: 2, Mini-Batches Completed: 50, Loss: 0.354, Test Accuracy = 90.460%\n",
      "Epoch: 2, Mini-Batches Completed: 100, Loss: 0.694, Test Accuracy = 91.040%\n",
      "Epoch: 2, Mini-Batches Completed: 150, Loss: 1.011, Test Accuracy = 90.790%\n",
      "Epoch: 2, Mini-Batches Completed: 200, Loss: 1.344, Test Accuracy = 91.470%\n",
      "Epoch: 2, Mini-Batches Completed: 250, Loss: 1.655, Test Accuracy = 91.060%\n",
      "Epoch: 2, Mini-Batches Completed: 300, Loss: 1.964, Test Accuracy = 92.040%\n",
      "Epoch: 2, Mini-Batches Completed: 350, Loss: 2.255, Test Accuracy = 91.740%\n",
      "Epoch: 2, Mini-Batches Completed: 400, Loss: 2.538, Test Accuracy = 92.210%\n",
      "Epoch: 2, Mini-Batches Completed: 450, Loss: 2.811, Test Accuracy = 92.700%\n",
      "start epoch number : 3\n",
      "Epoch: 3, Mini-Batches Completed: 50, Loss: 0.262, Test Accuracy = 92.560%\n",
      "Epoch: 3, Mini-Batches Completed: 100, Loss: 0.522, Test Accuracy = 93.160%\n",
      "Epoch: 3, Mini-Batches Completed: 150, Loss: 0.785, Test Accuracy = 92.420%\n",
      "Epoch: 3, Mini-Batches Completed: 200, Loss: 1.064, Test Accuracy = 93.360%\n",
      "Epoch: 3, Mini-Batches Completed: 250, Loss: 1.306, Test Accuracy = 93.570%\n",
      "Epoch: 3, Mini-Batches Completed: 300, Loss: 1.534, Test Accuracy = 93.340%\n",
      "Epoch: 3, Mini-Batches Completed: 350, Loss: 1.746, Test Accuracy = 93.870%\n",
      "Epoch: 3, Mini-Batches Completed: 400, Loss: 1.965, Test Accuracy = 93.740%\n",
      "Epoch: 3, Mini-Batches Completed: 450, Loss: 2.175, Test Accuracy = 93.910%\n",
      "start epoch number : 4\n",
      "Epoch: 4, Mini-Batches Completed: 50, Loss: 0.202, Test Accuracy = 94.300%\n",
      "Epoch: 4, Mini-Batches Completed: 100, Loss: 0.393, Test Accuracy = 94.420%\n",
      "Epoch: 4, Mini-Batches Completed: 150, Loss: 0.588, Test Accuracy = 94.420%\n",
      "Epoch: 4, Mini-Batches Completed: 200, Loss: 0.778, Test Accuracy = 94.790%\n",
      "Epoch: 4, Mini-Batches Completed: 250, Loss: 0.977, Test Accuracy = 94.910%\n",
      "Epoch: 4, Mini-Batches Completed: 300, Loss: 1.160, Test Accuracy = 94.730%\n",
      "Epoch: 4, Mini-Batches Completed: 350, Loss: 1.347, Test Accuracy = 95.170%\n",
      "Epoch: 4, Mini-Batches Completed: 400, Loss: 1.525, Test Accuracy = 95.350%\n",
      "Epoch: 4, Mini-Batches Completed: 450, Loss: 1.688, Test Accuracy = 95.430%\n",
      "start epoch number : 5\n",
      "Epoch: 5, Mini-Batches Completed: 50, Loss: 0.157, Test Accuracy = 95.350%\n",
      "Epoch: 5, Mini-Batches Completed: 100, Loss: 0.311, Test Accuracy = 95.520%\n",
      "Epoch: 5, Mini-Batches Completed: 150, Loss: 0.463, Test Accuracy = 95.820%\n",
      "Epoch: 5, Mini-Batches Completed: 200, Loss: 0.623, Test Accuracy = 95.780%\n",
      "Epoch: 5, Mini-Batches Completed: 250, Loss: 0.766, Test Accuracy = 96.120%\n",
      "Epoch: 5, Mini-Batches Completed: 300, Loss: 0.907, Test Accuracy = 96.200%\n",
      "Epoch: 5, Mini-Batches Completed: 350, Loss: 1.054, Test Accuracy = 95.960%\n",
      "Epoch: 5, Mini-Batches Completed: 400, Loss: 1.192, Test Accuracy = 96.080%\n",
      "Epoch: 5, Mini-Batches Completed: 450, Loss: 1.333, Test Accuracy = 96.190%\n",
      "start epoch number : 6\n",
      "Epoch: 6, Mini-Batches Completed: 50, Loss: 0.130, Test Accuracy = 96.400%\n",
      "Epoch: 6, Mini-Batches Completed: 100, Loss: 0.244, Test Accuracy = 96.570%\n",
      "Epoch: 6, Mini-Batches Completed: 150, Loss: 0.374, Test Accuracy = 96.720%\n",
      "Epoch: 6, Mini-Batches Completed: 200, Loss: 0.506, Test Accuracy = 96.630%\n",
      "Epoch: 6, Mini-Batches Completed: 250, Loss: 0.618, Test Accuracy = 96.610%\n",
      "Epoch: 6, Mini-Batches Completed: 300, Loss: 0.733, Test Accuracy = 96.930%\n",
      "Epoch: 6, Mini-Batches Completed: 350, Loss: 0.849, Test Accuracy = 96.820%\n",
      "Epoch: 6, Mini-Batches Completed: 400, Loss: 0.953, Test Accuracy = 96.700%\n",
      "Epoch: 6, Mini-Batches Completed: 450, Loss: 1.068, Test Accuracy = 97.100%\n",
      "start epoch number : 7\n",
      "Epoch: 7, Mini-Batches Completed: 50, Loss: 0.098, Test Accuracy = 97.050%\n",
      "Epoch: 7, Mini-Batches Completed: 100, Loss: 0.201, Test Accuracy = 97.150%\n",
      "Epoch: 7, Mini-Batches Completed: 150, Loss: 0.305, Test Accuracy = 97.130%\n",
      "Epoch: 7, Mini-Batches Completed: 200, Loss: 0.408, Test Accuracy = 97.370%\n",
      "Epoch: 7, Mini-Batches Completed: 250, Loss: 0.506, Test Accuracy = 97.260%\n",
      "Epoch: 7, Mini-Batches Completed: 300, Loss: 0.609, Test Accuracy = 97.270%\n",
      "Epoch: 7, Mini-Batches Completed: 350, Loss: 0.705, Test Accuracy = 97.310%\n",
      "Epoch: 7, Mini-Batches Completed: 400, Loss: 0.798, Test Accuracy = 97.170%\n",
      "Epoch: 7, Mini-Batches Completed: 450, Loss: 0.891, Test Accuracy = 97.460%\n",
      "start epoch number : 8\n",
      "Epoch: 8, Mini-Batches Completed: 50, Loss: 0.095, Test Accuracy = 97.410%\n",
      "Epoch: 8, Mini-Batches Completed: 100, Loss: 0.179, Test Accuracy = 97.410%\n",
      "Epoch: 8, Mini-Batches Completed: 150, Loss: 0.266, Test Accuracy = 97.430%\n",
      "Epoch: 8, Mini-Batches Completed: 200, Loss: 0.346, Test Accuracy = 97.480%\n",
      "Epoch: 8, Mini-Batches Completed: 250, Loss: 0.429, Test Accuracy = 97.550%\n",
      "Epoch: 8, Mini-Batches Completed: 300, Loss: 0.509, Test Accuracy = 97.710%\n",
      "Epoch: 8, Mini-Batches Completed: 350, Loss: 0.587, Test Accuracy = 97.690%\n",
      "Epoch: 8, Mini-Batches Completed: 400, Loss: 0.671, Test Accuracy = 97.610%\n",
      "Epoch: 8, Mini-Batches Completed: 450, Loss: 0.761, Test Accuracy = 97.720%\n",
      "start epoch number : 9\n",
      "Epoch: 9, Mini-Batches Completed: 50, Loss: 0.082, Test Accuracy = 97.800%\n",
      "Epoch: 9, Mini-Batches Completed: 100, Loss: 0.158, Test Accuracy = 97.800%\n",
      "Epoch: 9, Mini-Batches Completed: 150, Loss: 0.235, Test Accuracy = 97.690%\n",
      "Epoch: 9, Mini-Batches Completed: 200, Loss: 0.304, Test Accuracy = 97.860%\n",
      "Epoch: 9, Mini-Batches Completed: 250, Loss: 0.379, Test Accuracy = 97.660%\n",
      "Epoch: 9, Mini-Batches Completed: 300, Loss: 0.464, Test Accuracy = 97.790%\n",
      "Epoch: 9, Mini-Batches Completed: 350, Loss: 0.538, Test Accuracy = 97.790%\n",
      "Epoch: 9, Mini-Batches Completed: 400, Loss: 0.610, Test Accuracy = 97.950%\n",
      "Epoch: 9, Mini-Batches Completed: 450, Loss: 0.678, Test Accuracy = 97.950%\n",
      "start epoch number : 10\n",
      "Epoch: 10, Mini-Batches Completed: 50, Loss: 0.058, Test Accuracy = 97.940%\n",
      "Epoch: 10, Mini-Batches Completed: 100, Loss: 0.124, Test Accuracy = 97.940%\n",
      "Epoch: 10, Mini-Batches Completed: 150, Loss: 0.191, Test Accuracy = 97.970%\n",
      "Epoch: 10, Mini-Batches Completed: 200, Loss: 0.256, Test Accuracy = 97.880%\n",
      "Epoch: 10, Mini-Batches Completed: 250, Loss: 0.320, Test Accuracy = 98.080%\n",
      "Epoch: 10, Mini-Batches Completed: 300, Loss: 0.390, Test Accuracy = 97.930%\n",
      "Epoch: 10, Mini-Batches Completed: 350, Loss: 0.457, Test Accuracy = 98.130%\n",
      "Epoch: 10, Mini-Batches Completed: 400, Loss: 0.525, Test Accuracy = 97.920%\n",
      "Epoch: 10, Mini-Batches Completed: 450, Loss: 0.597, Test Accuracy = 98.080%\n",
      "finish Training\n"
     ]
    }
   ],
   "source": [
    "epochs = 10\n",
    "\n",
    "epoch_log = []\n",
    "loss_log = []\n",
    "accuracy_log = []\n",
    "\n",
    "\n",
    "for epoch in range(epochs):\n",
    "\n",
    "\n",
    "    print(f'start epoch number : {epoch +1}')\n",
    "\n",
    "    running_loss = 0.0\n",
    "\n",
    "\n",
    "    for i , data in enumerate(trainloader, 0):\n",
    "\n",
    "        inputs, labels = data\n",
    "        \n",
    "\n",
    "        inputs = inputs.to(device)\n",
    "        labels = labels.to(device)\n",
    "\n",
    "        optimizer.zero_grad()\n",
    "\n",
    "        outputs = net(inputs)\n",
    "\n",
    "        loss = criterion(outputs, labels)\n",
    "\n",
    "        loss.backward()\n",
    "        optimizer.step()\n",
    "\n",
    "        running_loss += loss.item()\n",
    "        if i % 50 == 49:\n",
    "            correct = 0\n",
    "            total = 0\n",
    "\n",
    "\n",
    "            with torch.no_grad():\n",
    "                for data in testloader:\n",
    "                    images, labels = data\n",
    "\n",
    "                    images = images.to(device)\n",
    "                    labels =labels.to(device)    \n",
    "\n",
    "                    outputs = net(images)\n",
    "\n",
    "                    _, prediction = torch.max(outputs.data, dim= 1)\n",
    "\n",
    "                    total += labels.size(0)\n",
    "\n",
    "                    correct += (prediction ==labels).sum().item()\n",
    "\n",
    "                accuracy = (correct/total) * 100\n",
    "                epoch_num = epoch + 1\n",
    "                actual_loss = running_loss/50\n",
    "                print(f'Epoch: {epoch_num}, Mini-Batches Completed: {(i+1)}, Loss: {actual_loss:.3f}, Test Accuracy = {accuracy:.3f}%')\n",
    "\n",
    "    epoch_log.append(epoch_num)\n",
    "    loss_log.append(actual_loss)\n",
    "    accuracy_log.append(accuracy)\n",
    "\n",
    "print('finish Training')    "
   ]
  },
  {
   "cell_type": "markdown",
   "metadata": {},
   "source": [
    "### **Let's reload the model we just saved**"
   ]
  },
  {
   "cell_type": "code",
   "execution_count": null,
   "metadata": {},
   "outputs": [],
   "source": [
    "PATH = './mnist_cnn_net.pth'\n",
    "torch.save(net.state_dict(), PATH)"
   ]
  },
  {
   "cell_type": "markdown",
   "metadata": {},
   "source": [
    "### **Let's look at some images from your Test Data and view their Ground Truth labels**"
   ]
  },
  {
   "cell_type": "code",
   "execution_count": null,
   "metadata": {},
   "outputs": [],
   "source": [
    "\n",
    "dataiter = iter(testloader)\n",
    "images, labels = dataiter.next()\n",
    "\n",
    "imshow(torchvision.utils.make_grid(images))\n",
    "print('GroundTruth: ',''.join('%1s' % labels[j].numpy() for j in range(128)))"
   ]
  },
  {
   "cell_type": "markdown",
   "metadata": {},
   "source": [
    "### **Let's reload the model we just saved**"
   ]
  },
  {
   "cell_type": "code",
   "execution_count": null,
   "metadata": {},
   "outputs": [],
   "source": [
    "net = Net()\n",
    "net.to(device)\n",
    "\n",
    "net.load_state_dict(torch.load(PATH))"
   ]
  },
  {
   "cell_type": "markdown",
   "metadata": {},
   "source": [
    "#### **Getting Predictions**\n"
   ]
  },
  {
   "cell_type": "code",
   "execution_count": null,
   "metadata": {},
   "outputs": [],
   "source": [
    "\n",
    "test_iter = iter(testloader)\n",
    "\n",
    "\n",
    "images, labels = test_iter.next()\n",
    "\n",
    "\n",
    "images = images.to(device)\n",
    "labels = labels.to(device)\n",
    "\n",
    "outputs = net(images)\n",
    "\n",
    "\n",
    "_, predicted = torch.max(outputs, 1)\n",
    "\n",
    "\n",
    "print('Predicted: ', ''.join('%1s' % predicted[j].cpu().numpy() for j in range(128)))"
   ]
  },
  {
   "cell_type": "markdown",
   "metadata": {},
   "source": [
    "#### **Showing our Test Accuracy again**"
   ]
  },
  {
   "cell_type": "code",
   "execution_count": null,
   "metadata": {},
   "outputs": [],
   "source": [
    "correct = 0 \n",
    "total = 0\n",
    "\n",
    "with torch.no_grad():\n",
    "    for data in testloader:\n",
    "        images, labels = data\n",
    "        images = images.to(device)\n",
    "        labels = labels.to(device)\n",
    "        outputs = net(images)\n",
    "        _, predicted = torch.max(outputs.data, 1)\n",
    "        total += labels.size(0)\n",
    "        correct += (predicted == labels).sum().item()\n",
    "\n",
    "accuracy = 100 * correct / total\n",
    "print(f'Accuracy of the network on the 10000 test images: {accuracy:.3}%')"
   ]
  },
  {
   "cell_type": "markdown",
   "metadata": {},
   "source": [
    "## **Plotting our Training Logs**\n"
   ]
  },
  {
   "cell_type": "code",
   "execution_count": null,
   "metadata": {},
   "outputs": [],
   "source": [
    "fig, ax1 = plt.subplots()\n",
    "\n",
    "plt.title(\"Accuracy & Loss vs Epoch\")\n",
    "plt.xticks(rotation=45)\n",
    "\n",
    "ax2 = ax1.twinx()\n",
    "\n",
    "ax1.plot(epoch_log, loss_log, 'g-')\n",
    "ax2.plot(epoch_log, accuracy_log, 'b-')\n",
    "\n",
    "ax1.set_xlabel('Epochs')\n",
    "ax1.set_ylabel('Loss', color='g')\n",
    "ax2.set_ylabel('Test Accuracy', color='b')\n",
    "\n",
    "plt.show()"
   ]
  }
 ],
 "metadata": {
  "kernelspec": {
   "display_name": "pytorch",
   "language": "python",
   "name": "python3"
  },
  "language_info": {
   "codemirror_mode": {
    "name": "ipython",
    "version": 3
   },
   "file_extension": ".py",
   "mimetype": "text/x-python",
   "name": "python",
   "nbconvert_exporter": "python",
   "pygments_lexer": "ipython3",
   "version": "3.10.4"
  }
 },
 "nbformat": 4,
 "nbformat_minor": 2
}
